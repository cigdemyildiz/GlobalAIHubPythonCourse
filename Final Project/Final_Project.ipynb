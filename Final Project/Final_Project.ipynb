{
 "cells": [
  {
   "cell_type": "code",
   "execution_count": 67,
   "metadata": {},
   "outputs": [
    {
     "name": "stdout",
     "output_type": "stream",
     "text": [
      "General Director\n",
      "Çiğdem can speak:\n",
      "Turkish\n",
      "English\n",
      "Spanish\n",
      "\n",
      "\n",
      "Ali can speak:\n",
      "Spanish\n",
      "English\n"
     ]
    }
   ],
   "source": [
    "#Since the two desired classes have the same properties and functions, \n",
    "#I thought of the Employees class as the base class and I created the Manager class inherited from the Employees class.\n",
    "#I also added the department property that only belongs to the manager class.\n",
    "#I defined adding languages as a separate function so that they can be added to spoken languages later.\n",
    "#I created the spoken languages in sets so that they would not show as duplicate values.\n",
    "\n",
    "class Employees():\n",
    "    def __init__(self, name, age):\n",
    "        self.name = name\n",
    "        self.age = age\n",
    "        self.language = set()\n",
    "   \n",
    "    \n",
    "    def addLanguage(self,new_lang):\n",
    "        self.language.add(new_lang)\n",
    "      \n",
    "        \n",
    "    def showLanguages(self):\n",
    "        print(self.name + \" can speak:\")\n",
    "        for i in self.language:\n",
    "              print(i)\n",
    "                \n",
    "class Manager(Employees):\n",
    "    def __init__(self, name, age, dep):\n",
    "        super().__init__(name, age)\n",
    "        self.dep=dep\n",
    "        \n",
    "\n",
    "manager1=Manager(\"Çiğdem\", 21, \"General Director\")\n",
    "print(manager1.dep)\n",
    "manager1.addLanguage(\"Turkish\")\n",
    "manager1.addLanguage(\"English\")\n",
    "manager1.addLanguage(\"Spanish\")\n",
    "manager1.showLanguages()\n",
    "print(\"\\n\")\n",
    "employee1=Employees(\"Ali\", 22)\n",
    "employee1.addLanguage(\"Spanish\")\n",
    "employee1.addLanguage(\"English\")\n",
    "employee1.addLanguage(\"English\")\n",
    "employee1.showLanguages()"
   ]
  }
 ],
 "metadata": {
  "kernelspec": {
   "display_name": "Python 3",
   "language": "python",
   "name": "python3"
  },
  "language_info": {
   "codemirror_mode": {
    "name": "ipython",
    "version": 3
   },
   "file_extension": ".py",
   "mimetype": "text/x-python",
   "name": "python",
   "nbconvert_exporter": "python",
   "pygments_lexer": "ipython3",
   "version": "3.8.5"
  }
 },
 "nbformat": 4,
 "nbformat_minor": 4
}
