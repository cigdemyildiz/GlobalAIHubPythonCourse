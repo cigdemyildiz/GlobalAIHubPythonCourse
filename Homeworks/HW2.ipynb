{
 "cells": [
  {
   "cell_type": "code",
   "execution_count": 2,
   "metadata": {},
   "outputs": [
    {
     "name": "stdout",
     "output_type": "stream",
     "text": [
      "Please enter your username: Çiğdem\n",
      "Please enter your password: Ç123\n",
      "Login successful!\n"
     ]
    }
   ],
   "source": [
    "#User login app\n",
    "\n",
    "user_name=str(input(\"Please enter your username: \"))\n",
    "password=str(input(\"Please enter your password: \"))\n",
    "if (user_name != \"Çiğdem\" and password == \"Ç123\"):\n",
    "    print(\"Invalid user name\")\n",
    "elif (user_name == \"Çiğdem\" and password != \"Ç123\"):\n",
    "    print(\"Invalid Password\")\n",
    "elif (user_name != \"Çiğdem\" and password!= \"Ç123\"):\n",
    "    print(\"Invalid user name and password\")\n",
    "else:\n",
    "    print(\"Login successful!\")"
   ]
  },
  {
   "cell_type": "code",
   "execution_count": 4,
   "metadata": {},
   "outputs": [
    {
     "name": "stdout",
     "output_type": "stream",
     "text": [
      "Please enter your username: Yıldız\n",
      "Please enter your password: 456\n",
      "Login successful!\n",
      "Welcome Yıldız!\n"
     ]
    }
   ],
   "source": [
    "#Extra: The same application written using a dictionary.\n",
    "\n",
    "users = {\n",
    "    0 : {\n",
    "        \"username\": \"Çiğdem\",\n",
    "        \"password\": \"123\"\n",
    "    },\n",
    "    1 : {\n",
    "        \"username\": \"Yıldız\",\n",
    "        \"password\": \"456\"\n",
    "    },\n",
    "    2 : {\n",
    "        \"username\": \"Ali\",\n",
    "        \"password\": \"Veli\"\n",
    "    }\n",
    "}\n",
    "#print(users)\n",
    "username=str(input(\"Please enter your username: \"))\n",
    "password=str(input(\"Please enter your password: \"))\n",
    "\n",
    "for i in range(0,3):\n",
    "    if (users.get(i).get(\"username\")==username and users.get(i).get(\"password\")==password):\n",
    "        print(\"Login successful!\")\n",
    "        print(\"Welcome \" + users.get(i).get(\"username\") + \"!\")\n",
    "        break\n",
    "else: \n",
    "    print(\"Wrong username or password!\")"
   ]
  }
 ],
 "metadata": {
  "kernelspec": {
   "display_name": "Python 3",
   "language": "python",
   "name": "python3"
  },
  "language_info": {
   "codemirror_mode": {
    "name": "ipython",
    "version": 3
   },
   "file_extension": ".py",
   "mimetype": "text/x-python",
   "name": "python",
   "nbconvert_exporter": "python",
   "pygments_lexer": "ipython3",
   "version": "3.8.5"
  }
 },
 "nbformat": 4,
 "nbformat_minor": 4
}
