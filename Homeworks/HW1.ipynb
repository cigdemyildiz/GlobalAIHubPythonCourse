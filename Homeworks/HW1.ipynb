{
 "cells": [
  {
   "cell_type": "code",
   "execution_count": 15,
   "metadata": {},
   "outputs": [
    {
     "name": "stdout",
     "output_type": "stream",
     "text": [
      "[5, 6, 7, 8, 9, 0, 1, 2, 3, 4]\n"
     ]
    }
   ],
   "source": [
    "#Swaping the first half of the list with the second half of the list.\n",
    "#I also defined a second list (in the comment line), you can try the code with it too. \n",
    "\n",
    "list1 = list(range(10))\n",
    "#list1 = [\"Python\",\"Java\",\"JavaScript\",\"Ruby\",\"C#\",\"C++\"]\n",
    "\n",
    "firsthalf=[]\n",
    "secondhalf=[]\n",
    "firsthalf=list1[0:len(list1)//2]\n",
    "secondhalf=list1[(len(list1)//2):len(list1)]\n",
    "\n",
    "secondhalf.extend(firsthalf)\n",
    "\n",
    "print(secondhalf)"
   ]
  },
  {
   "cell_type": "code",
   "execution_count": 12,
   "metadata": {},
   "outputs": [
    {
     "name": "stdout",
     "output_type": "stream",
     "text": [
      "Please enter a single digit integer: 5\n",
      "Even numbers between 0 and 5\n",
      "0\n",
      "2\n",
      "4\n"
     ]
    }
   ],
   "source": [
    "#Even numbers between 0 and the single digit number received from the user.\n",
    "\n",
    "n=int(input(\"Please enter a single digit integer: \"))\n",
    "if n<10:\n",
    "    print(\"Even numbers between 0 and \" + str(n))\n",
    "    for i in range(0, n+1):\n",
    "        if(i % 2 == 0):\n",
    "            print(i)\n",
    "else:\n",
    "    print(\"This is not a single digit integer!\")"
   ]
  }
 ],
 "metadata": {
  "kernelspec": {
   "display_name": "Python 3",
   "language": "python",
   "name": "python3"
  },
  "language_info": {
   "codemirror_mode": {
    "name": "ipython",
    "version": 3
   },
   "file_extension": ".py",
   "mimetype": "text/x-python",
   "name": "python",
   "nbconvert_exporter": "python",
   "pygments_lexer": "ipython3",
   "version": "3.8.5"
  }
 },
 "nbformat": 4,
 "nbformat_minor": 4
}
