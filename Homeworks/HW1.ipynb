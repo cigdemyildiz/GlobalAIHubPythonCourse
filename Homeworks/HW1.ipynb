{
 "cells": [
  {
   "cell_type": "code",
   "execution_count": 5,
   "metadata": {},
   "outputs": [
    {
     "name": "stdout",
     "output_type": "stream",
     "text": [
      "[5, 6, 7, 8, 9, 0, 1, 2, 3, 4]\n"
     ]
    }
   ],
   "source": [
    "list1 = list(range(10))\n",
    "#list2 = [\"Python\",\"Java\",\"R\",\"JavaScript\",\"Ruby\",\"Python\",\"C#\",\"C++\"]\n",
    "\n",
    "firsthalf=[]\n",
    "secondhalf=[]\n",
    "firsthalf=list1[0:len(list1)//2]\n",
    "secondhalf=list1[(len(list1)//2):len(list1)]\n",
    "\n",
    "secondhalf.extend(firsthalf)\n",
    "\n",
    "print(secondhalf)"
   ]
  },
  {
   "cell_type": "code",
   "execution_count": null,
   "metadata": {},
   "outputs": [],
   "source": [
    "n=int(input(\"Please enter a single digit integer: \"))\n",
    "if n<10:\n",
    "    for i in range(0, n+1):\n",
    "        if(i % 2 == 0):\n",
    "            print(i)\n",
    "else:\n",
    "    print(\"This is not a single digit integer!\")"
   ]
  }
 ],
 "metadata": {
  "kernelspec": {
   "display_name": "Python 3",
   "language": "python",
   "name": "python3"
  },
  "language_info": {
   "codemirror_mode": {
    "name": "ipython",
    "version": 3
   },
   "file_extension": ".py",
   "mimetype": "text/x-python",
   "name": "python",
   "nbconvert_exporter": "python",
   "pygments_lexer": "ipython3",
   "version": "3.8.5"
  }
 },
 "nbformat": 4,
 "nbformat_minor": 4
}
