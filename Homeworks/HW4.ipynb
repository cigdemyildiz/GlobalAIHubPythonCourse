{
 "cells": [
  {
   "cell_type": "code",
   "execution_count": 54,
   "metadata": {
    "scrolled": true
   },
   "outputs": [
    {
     "name": "stdout",
     "output_type": "stream",
     "text": [
      "Family: Cat Speak: Meow\n",
      "First cat's name: Hera Age: 5 Speak: Meow\n",
      "First dog's name: Boika Age: 6 Species: Kangal\n",
      "Family: Cat Name: Hera Age: 5\n",
      "Family: Dog Name: Boika Age: 6\n",
      "The number of feet of the cat named Hera is 4\n",
      "The colour of the dog named Boika is Black\n"
     ]
    }
   ],
   "source": [
    "#I have defined functions with parameters (CalcLegs) and without parameters (ShowColour) in different classes for different usage. \n",
    "#Other requirements are also available, you can see.\n",
    "\n",
    "\n",
    "class Animals:\n",
    "    def __init__(self, name, age, family):\n",
    "        self.name=name\n",
    "        self.age=age\n",
    "        self.family=family\n",
    "    \n",
    "    def ShowInfo(self):\n",
    "        print(\"Family: \" + self.family + \" Name: \" + self.name + \" Age: \"+ str(self.age))\n",
    "                         \n",
    "class Cats(Animals):\n",
    "  \n",
    "    def __init__(self, name, age, family, speak):\n",
    "        super().__init__(name, age, family)\n",
    "        self.speak=speak\n",
    "        print(\"Family: \" + self.family + \" Speak: \" + self.speak)\n",
    "        \n",
    "    def CalcLegs(self, leg):\n",
    "        self.leg=leg\n",
    "        print(\"The number of feet of the cat named \" + self.name + \" is \" + str(self.leg))\n",
    "    \n",
    "class Dogs(Animals):\n",
    "    def __init__(self, name, age, family, species, colour):\n",
    "        super().__init__(name, age, family)\n",
    "        self.colour=colour\n",
    "        self.species=species\n",
    "        \n",
    "        \n",
    "    def ShowColour(self):\n",
    "        print(\"The colour of the dog named \" + self.name + \" is \" + self.colour)\n",
    "        \n",
    "            \n",
    "cat1= Cats(\"Hera\", 5, \"Cat\", \"Meow\")\n",
    "dog1=Dogs(\"Boika\", 6, \"Dog\", \"Kangal\", \"Black\")\n",
    "print(\"First cat's name: \" + cat1.name + \" Age: \" + str(cat1.age) + \" Speak: \" + cat1.speak)\n",
    "print(\"First dog's name: \" + dog1.name + \" Age: \" + str(dog1.age) + \" Species: \" + dog1.species)\n",
    "cat1.ShowInfo()\n",
    "dog1.ShowInfo()\n",
    "cat1.CalcLegs(4)\n",
    "dog1.ShowColour()"
   ]
  }
 ],
 "metadata": {
  "kernelspec": {
   "display_name": "Python 3",
   "language": "python",
   "name": "python3"
  },
  "language_info": {
   "codemirror_mode": {
    "name": "ipython",
    "version": 3
   },
   "file_extension": ".py",
   "mimetype": "text/x-python",
   "name": "python",
   "nbconvert_exporter": "python",
   "pygments_lexer": "ipython3",
   "version": "3.8.5"
  }
 },
 "nbformat": 4,
 "nbformat_minor": 4
}
